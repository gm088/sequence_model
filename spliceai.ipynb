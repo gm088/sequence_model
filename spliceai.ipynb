{
 "cells": [
  {
   "cell_type": "code",
   "execution_count": null,
   "metadata": {},
   "outputs": [],
   "source": [
    "import tensorflow as tf\n",
    "import matplotlib.pyplot as plt\n",
    "from keras.models import load_model\n",
    "from pkg_resources import resource_filename\n",
    "from spliceai.utils import one_hot_encode\n",
    "import numpy as np"
   ]
  },
  {
   "cell_type": "code",
   "execution_count": null,
   "metadata": {},
   "outputs": [],
   "source": [
    "context = 10000\n",
    "paths = ('models/spliceai{}.h5'.format(x) for x in range(1, 6))\n",
    "models = [load_model(resource_filename('spliceai', x), compile = False) for x in paths]"
   ]
  },
  {
   "cell_type": "code",
   "execution_count": null,
   "metadata": {},
   "outputs": [],
   "source": [
    "input_sequence = 'AAGTAAA'"
   ]
  },
  {
   "cell_type": "code",
   "execution_count": null,
   "metadata": {},
   "outputs": [],
   "source": [
    "x = one_hot_encode('N'*(context//2) + input_sequence + 'N'*(context//2))[None, :]\n",
    "y = np.mean([models[m].predict(x) for m in range(5)], axis=0)\n",
    "\n",
    "acceptor_prob = y[0, :, 1]\n",
    "donor_prob = y[0, :, 2]\n",
    "plt.bar(list(range(len(donor_prob))),donor_prob)"
   ]
  },
  {
   "cell_type": "code",
   "execution_count": null,
   "metadata": {},
   "outputs": [],
   "source": [
    "# test\n",
    "import sys\n",
    "sys.path.append(\"/hpcnfs/data/GN2/gmandana/take2project/clip_2_electric_boogaloo/analysis/NN/Neural_Network_DNA_Demo\")\n",
    "sys.path.append(\"/hpcnfs/data/GN2/gmandana/bin/DeepRiPe_edited/Scripts/\")\n",
    "from helper import IOHelper, SequenceHelper"
   ]
  },
  {
   "cell_type": "code",
   "execution_count": null,
   "metadata": {},
   "outputs": [],
   "source": [
    "fname = \"/hpcnfs/data/GN2/gmandana/bin/4.1.0/home/ieo5559/miscellany/splice/pcg_TSS_500bp.fa\"\n",
    "fasta_data = IOHelper.get_fastas_from_file(fname, uppercase=True)\n",
    "x = [one_hot_encode('N'*(context//2) + input_sequence + 'N'*(context//2)) for input_sequence in np.array(fasta_data.sequence)]\n",
    "\n",
    "# the slicing is because donor probabilities are in the 3rd column, and the shape is [1,numseqs,3]\n",
    "y = [np.mean([models[m].predict(x[xx].reshape(1,len(x[0]),4)) for m in range(5)], axis = 0)[0,:,1] for xx in range(len(x))]"
   ]
  },
  {
   "cell_type": "code",
   "execution_count": null,
   "metadata": {},
   "outputs": [],
   "source": [
    "foutname = \"/hpcnfs/data/GN2/gmandana/bin/4.1.0/home/ieo5559/miscellany/splice/pcg_500bp_acceptor_preds.txt\"\n",
    "## export as a matrix\n",
    "np.savetxt(foutname, y, delimiter=\"\\t\")"
   ]
  }
 ],
 "metadata": {
  "kernelspec": {
   "display_name": "Python 3",
   "language": "python",
   "name": "python3"
  },
  "language_info": {
   "codemirror_mode": {
    "name": "ipython",
    "version": 3
   },
   "file_extension": ".py",
   "mimetype": "text/x-python",
   "name": "python",
   "nbconvert_exporter": "python",
   "pygments_lexer": "ipython3",
   "version": "3.10.12"
  }
 },
 "nbformat": 4,
 "nbformat_minor": 2
}
